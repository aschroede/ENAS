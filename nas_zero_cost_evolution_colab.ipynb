{
 "cells": [
  {
   "cell_type": "code",
   "execution_count": null,
   "id": "a523989c",
   "metadata": {
    "vscode": {
     "languageId": "plaintext"
    }
   },
   "outputs": [],
   "source": []
  },
  {
   "cell_type": "code",
   "execution_count": null,
   "id": "603291d8",
   "metadata": {
    "vscode": {
     "languageId": "plaintext"
    }
   },
   "outputs": [],
   "source": [
    "# Cell 1: Setup\n",
    "!git clone https://github.com/D-X-Y/NAS-Bench-201.git\n",
    "%cd NAS-Bench-201\n",
    "!pip install -r requirements.txt\n",
    "\n",
    "# Cell 2: Install NASBench-201 API\n",
    "!pip install git+https://github.com/D-X-Y/AutoDL-Projects.git\n",
    "\n",
    "# Cell 3: Upload NAS-Bench-201-v1_1-096897.pth\n",
    "from google.colab import files\n",
    "uploaded = files.upload()  # Upload the NAS-Bench-201 .pth file\n",
    "\n",
    "# Cell 4: Main GPU Search Script\n",
    "!cp /content/NAS-Bench-201/main_colab_gpu.py .\n",
    "!cp /content/NAS-Bench-201/nasbench201_loader.py .\n",
    "!cp /content/NAS-Bench-201/gradient_proxies.py .\n",
    "\n",
    "!python main_colab_gpu.py\n"
   ]
  }
 ],
 "metadata": {
  "language_info": {
   "name": "python"
  }
 },
 "nbformat": 4,
 "nbformat_minor": 5
}
